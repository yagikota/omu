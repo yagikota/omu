{
 "cells": [
  {
   "cell_type": "markdown",
   "metadata": {
    "jupyter": {
     "source_hidden": true
    },
    "tags": []
   },
   "source": [
    "学生番号，氏名を記載して下さい．"
   ]
  },
  {
   "cell_type": "raw",
   "metadata": {},
   "source": [
    "学籍番号："
   ]
  },
  {
   "cell_type": "raw",
   "metadata": {},
   "source": [
    "氏名："
   ]
  },
  {
   "cell_type": "markdown",
   "metadata": {},
   "source": [
    "# 第11回講義資料  \n",
    "python のモジュールの1つであるmatplotlib を使ってグラフを描画をしてみましょう．"
   ]
  },
  {
   "cell_type": "markdown",
   "metadata": {},
   "source": [
    "## 必要なモジュールの読み込み  \n",
    "今回はnumpy とmatplotlib を利用しますので，予め読み込みをしておきます．"
   ]
  },
  {
   "cell_type": "code",
   "execution_count": null,
   "metadata": {
    "tags": []
   },
   "outputs": [],
   "source": [
    "import numpy as np\n",
    "import matplotlib.pyplot as plt"
   ]
  },
  {
   "cell_type": "markdown",
   "metadata": {},
   "source": [
    "もしここを実行してエラーが出る場合は，モジュールがインストールされていません．  \n",
    "コマンドプロンプト，もしくはターミナルでnumpy は``pip install numpy``，matplotlib は``pip install matplotlib``でインストールして下さい．"
   ]
  },
  {
   "cell_type": "markdown",
   "metadata": {},
   "source": [
    "## 簡単なグラフの描画例　　\n",
    "ここでは，matplolib での棒グラフ，折れ線グラフ，散布図の描画方法を見てみましょう．\n",
    "### グラフのデータの用意  \n",
    "まずはプロットするデータをnumpy の配列として用意します．x は横軸の値，yは縦軸の値とします．"
   ]
  },
  {
   "cell_type": "code",
   "execution_count": null,
   "metadata": {
    "tags": []
   },
   "outputs": [],
   "source": [
    "#データはリストもしくはnumpy の配列として与える\n",
    "x = np.array( [ 1, 2 ,3 ] )\n",
    "y = np.array( [ 10, 20, 30 ] )"
   ]
  },
  {
   "cell_type": "markdown",
   "metadata": {},
   "source": [
    "x, y がどのような値か出力してみましょう．"
   ]
  },
  {
   "cell_type": "code",
   "execution_count": null,
   "metadata": {
    "tags": []
   },
   "outputs": [],
   "source": [
    "print('x =', end=\"\")\n",
    "print( x )\n",
    "print('y =', end=\"\" )\n",
    "print( y )"
   ]
  },
  {
   "cell_type": "markdown",
   "metadata": {},
   "source": [
    "### 棒グラフの描画  \n",
    "まず．棒グラフを描画してみましょう．棒グラフを描画する関数は``plt.bar()``です．また，グラフの描画結果を出力する関数の``plt.show()``を描画の際に呼び出します．"
   ]
  },
  {
   "cell_type": "code",
   "execution_count": null,
   "metadata": {},
   "outputs": [],
   "source": [
    "#棒グラフを描く\n",
    "plt.bar( x, y )\n",
    "plt.show()"
   ]
  },
  {
   "cell_type": "markdown",
   "metadata": {},
   "source": [
    "### グラフのカスタマイズ  \n",
    "では，このグラフの形式はそのままに，グラフのカスタマイズをしてみましょう．  \n",
    "グラフにタイトルをつけたり，凡例を載せたり，色を変えてみます．"
   ]
  },
  {
   "cell_type": "code",
   "execution_count": null,
   "metadata": {},
   "outputs": [],
   "source": [
    "#グラフのカスタマイズ\n",
    "plt.bar( x, y, label= 'data1', color = 'pink' )#凡例の名前とグラフの色を指定\n",
    "plt.title( 'bar')#グラフのタイトルを表示\n",
    "plt.xlabel( 'x' )#グラフのx軸\n",
    "plt.ylabel( 'y' )#グラフのy軸\n",
    "plt.legend()#凡例の表示\n",
    "plt.xticks( x, [ 'a', 'b', 'c'])#x 軸の目盛りを書き換える\n",
    "plt.show()"
   ]
  },
  {
   "cell_type": "markdown",
   "metadata": {},
   "source": [
    "上記以外にもフォントの種類やサイズを変えたりすることも可能ですので，自分で調べながらカスタマイズしてみて下さい．  \n",
    "### グラフの形式の変更  \n",
    "次に，グラフの形式を変えてみます．折れ線グラフとして描画をしてみましょう．"
   ]
  },
  {
   "cell_type": "code",
   "execution_count": null,
   "metadata": {},
   "outputs": [],
   "source": [
    "plt.plot(x,y)\n",
    "plt.show()"
   ]
  },
  {
   "cell_type": "markdown",
   "metadata": {},
   "source": [
    "また，散布図を描画してみましょう．"
   ]
  },
  {
   "cell_type": "code",
   "execution_count": null,
   "metadata": {},
   "outputs": [],
   "source": [
    "plt.scatter(x,y)\n",
    "plt.show()"
   ]
  },
  {
   "cell_type": "markdown",
   "metadata": {},
   "source": [
    "### グラフを画像として保存  \n",
    "グラフはpdf やeps,jpg などの形式で保存することが出来ます．  \n",
    "グラフを描画した後，``plt.savefig()``関数を呼び出すと，直前に描画されたグラフがpdf ファイルとして保存されるので，ファイルが保存されたか確認して下さい．"
   ]
  },
  {
   "cell_type": "code",
   "execution_count": null,
   "metadata": {},
   "outputs": [],
   "source": [
    "plt.scatter( x, y, label= 'data1', color = 'darkturquoise', marker = '*', s=300 )#凡例の名前とマーカの色と形状，サイズを指定\n",
    "plt.title( 'stars', fontsize = 16 )#グラフのタイトルを表示\n",
    "plt.xlabel( 'x' , fontsize = 16)#グラフのx軸とフォントサイズ\n",
    "plt.ylabel( 'y', fontsize = 16)#グラフのy軸とフォントサイズ\n",
    "plt.xticks( fontsize = 16)#横軸の関数を\n",
    "plt.yticks( fontsize = 16)\n",
    "plt.legend(fontsize  = 16)#凡例の表示\n",
    "plt.savefig('plot.pdf', bbox_inches='tight')#pdf として保存"
   ]
  },
  {
   "cell_type": "markdown",
   "metadata": {},
   "source": [
    "## 課題（データを読み込んでグラフを描画）\n",
    "csv ファイルからデータを読み込んで，グラフを描画する関数を記載しましょう．  \n",
    "今回利用するcsv ファイルは，このファイルと同じディレクトリにある，``sakaicity_population.csv``です．  \n",
    "このデータは，堺市の年齢別人口統計データです．このファイルをプログラム内で読み込んで来て，男女それぞれ5年間隔の統計データに変換して下さい．  \n",
    "そして，男女それぞれを棒グラフとして描画するプログラムを以下に書いて下さい．  \n",
    "グラフの描画方法は特に指定せず，男女別のグラフを描画出来れば良いとします．  \n",
    "人口ピラミッドのように1つにまとめてもらっても構いません．  \n",
    "参考に，私がmatplotlib で描画したグラフを示しておきます．  \n",
    "<img src = './pyramid.pdf'>"
   ]
  },
  {
   "cell_type": "code",
   "execution_count": null,
   "metadata": {},
   "outputs": [],
   "source": [
    "#CSV ファイルからのデータ読み込みとデータ描画のコードをここに書いて下さい．\n",
    "#必要なモジュールがあればここで適宜追加して構いません．\n",
    "plt.show()"
   ]
  },
  {
   "cell_type": "markdown",
   "metadata": {},
   "source": [
    "## グラフの描画で工夫した点・課題の感想  \n",
    "グラフの描画を行った際に，どのような点を工夫したか記入して下さい．また，課題に関して気になる点があれば以下に記載して下さい．"
   ]
  },
  {
   "cell_type": "raw",
   "metadata": {},
   "source": [
    "\n",
    "\n",
    "\n",
    "\n"
   ]
  },
  {
   "cell_type": "markdown",
   "metadata": {
    "tags": []
   },
   "source": [
    "## 提出方法  \n",
    "全てのコードを実行した状態にして保存し，ファイルの最初の部分に学籍番号と氏名を記入して，ファイル名のXXX の部分を学籍番号に書き換えて，.ipynb ファイルを[moodle](https://lms.omu.ac.jp/mod/assign/view.php?id=742088)に提出して下さい．締切は7/6 23:59です．"
   ]
  }
 ],
 "metadata": {
  "kernelspec": {
   "display_name": "Python 3",
   "language": "python",
   "name": "python3"
  },
  "language_info": {
   "codemirror_mode": {
    "name": "ipython",
    "version": 3
   },
   "file_extension": ".py",
   "mimetype": "text/x-python",
   "name": "python",
   "nbconvert_exporter": "python",
   "pygments_lexer": "ipython3",
   "version": "3.9.13"
  }
 },
 "nbformat": 4,
 "nbformat_minor": 4
}
