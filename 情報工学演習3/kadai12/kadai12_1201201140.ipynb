{
 "cells": [
  {
   "cell_type": "markdown",
   "metadata": {},
   "source": [
    "学籍番号，氏名を記入して下さい．"
   ]
  },
  {
   "cell_type": "raw",
   "metadata": {},
   "source": [
    "学籍番号：1201201140\n",
    "氏名：八木洸太"
   ]
  },
  {
   "cell_type": "markdown",
   "metadata": {},
   "source": [
    "# 第12回課題（主成分分析をしてみよう）  \n",
    "numpy を使って主成分分析をしてデータの次元圧縮をし，結果をmatplotlib を使って2次元のグラフにプロットしてみましょう．"
   ]
  },
  {
   "cell_type": "markdown",
   "metadata": {},
   "source": [
    "## 必要なモジュールの読み込み  \n",
    "今回はnumpy とmatplotlib を使います．また，データの読み込みのためにpickle を使うので合わせて読み込みしておきます．"
   ]
  },
  {
   "cell_type": "code",
   "execution_count": 2,
   "metadata": {},
   "outputs": [],
   "source": [
    "#必要なモジュールを読み込む\n",
    "import numpy as np\n",
    "import matplotlib.pyplot as plt\n",
    "import pickle"
   ]
  },
  {
   "cell_type": "markdown",
   "metadata": {},
   "source": [
    "## データの読み込み  \n",
    "データを読み込みます．今回はCIFAR-10 という画像データベース(https://www.cs.toronto.edu/~kriz/cifar.html) を使います.  \n",
    "すべてのデータを使うとデータ量が莫大なので，10000枚だけ（data_batch_1）を使います．  \n",
    "\n",
    "**labels** には画像のラベル（0~9までの10種類．対応するカテゴリはlabel_name に保存されている）が格納されています．10000 枚画像があるので，10000次元のベクトルとして表現されています．  \n",
    "\n",
    "**images** には画像のデータが格納されています．画像は，RGB 3チャネル，32X32 pixelsで，3072次元の横ベクトルとして表現されています．それが画像枚数分あるので，images の次元数は(10000, 3072) になっています．\n",
    "\n",
    "つまり，i番目のデータのラベルは``labels[i]``で，その画像の横ベクトルは``images[i, :]`` で表現することになります．"
   ]
  },
  {
   "cell_type": "code",
   "execution_count": 3,
   "metadata": {},
   "outputs": [],
   "source": [
    "#データを読み込む関数．\n",
    "def unpickle(file):\n",
    "    with open(file, 'rb') as fo:\n",
    "        dict = pickle.load(fo, encoding='bytes')\n",
    "    return dict\n",
    "\n",
    "#クラスの番号とクラスの名前の対応（cifer 10 のページから適当に取って来て作った）\n",
    "label_name =[ 'airplane', 'automobile', 'bird', 'cat', 'deer', 'dog', 'frog', 'horse', 'ship', 'truck'] \n",
    "\n",
    "#画像読み込み\n",
    "cifer_dict = unpickle( './data_batch_1')\n",
    "\n",
    "# #扱いやすいようにリストはndarray 配列として代入．\n",
    "labels = np.array( cifer_dict[b'labels'] )\n",
    "# #images はndarray 配列なのでそのまま代入\n",
    "images = cifer_dict[ b'data']"
   ]
  },
  {
   "cell_type": "markdown",
   "metadata": {},
   "source": [
    "試しにlabels とimages の次元数を出力してみましょう．"
   ]
  },
  {
   "cell_type": "code",
   "execution_count": 4,
   "metadata": {},
   "outputs": [
    {
     "name": "stdout",
     "output_type": "stream",
     "text": [
      "labels.shape = (10000,)\n",
      "images.shape = (10000, 3072)\n"
     ]
    }
   ],
   "source": [
    "print( 'labels.shape = ' + str( labels.shape ) )\n",
    "print( 'images.shape = ' + str( images.shape ) )"
   ]
  },
  {
   "cell_type": "markdown",
   "metadata": {},
   "source": [
    "また，データの画像がどんなものか見てみましょう．data_num に0~9999までの値を入れてやると，該当するデータのクラスと画像が出力されます．適当に値を代入して，どのようなデータがあるか見て下さい．"
   ]
  },
  {
   "cell_type": "code",
   "execution_count": 5,
   "metadata": {},
   "outputs": [
    {
     "name": "stdout",
     "output_type": "stream",
     "text": [
      "airplane\n"
     ]
    },
    {
     "data": {
      "image/png": "[encoded data removed]",
      "text/plain": [
       "<Figure size 432x288 with 1 Axes>"
      ]
     },
     "metadata": {
      "needs_background": "light"
     },
     "output_type": "display_data"
    }
   ],
   "source": [
    "#データの一部を表示\n",
    "data_num = 700\n",
    "plt.clf()\n",
    "plt.imshow( images[data_num].reshape(3, 32, 32).transpose( 1, 2, 0 ) )\n",
    "print(  label_name[  labels[data_num] ] )"
   ]
  },
  {
   "cell_type": "markdown",
   "metadata": {},
   "source": [
    "## numpy を使ってPCA を実装\n",
    "ここから皆さんにコードを書いてもらいます．上で用意されたlabels, images に保存されたデータを用いてPCA を行ってもらい，第一主成分と第二主成分で張られる2次元空間に画像のベクトルを写像してもらいます．そして，写像した結果をmatlpotlib でプロットして表示して下さい．  \n",
    "（sklearn 使えばいいじゃん，と思われる方もおられるかと思いますが，今回はnumpy を使った演習なので，使わずに実装してみましょう．sklearn は来週使ってもらう予定です．）\n"
   ]
  },
  {
   "cell_type": "markdown",
   "metadata": {},
   "source": [
    "### データの標準化\n",
    "まずは，データの標準化をします．\n",
    "ここで，サンプル集合$X$を\n",
    "$$ X = \\left[\\boldsymbol{x}_1, \\boldsymbol{x}_2, \\ldots, \\boldsymbol{x}_i, \\ldots, \\boldsymbol{x}_n\\right]^{\\top}, \\boldsymbol{x}_i\\in\\mathbb{R}^D$$\n",
    "とします． ちなみに，今回のデータでは$n=10000, D=3072$です．  \n",
    "標準化はデータの各次元の平均を$0$, 分散を$1$にして，データの偏りをなくし，計算をしやすくするために行います．  \n",
    "いま，サンプル集合の$j$次元目の平均を$\\bar{x}_j$，標本標準偏差を$\\sigma_j$とすると，標準化されたサンプル$\\boldsymbol{x}^{s}_{i} = \\left(x^{s}_{i, 1},x^{s}_{i, 2}, \\ldots, x^{s}_{i, j},  \\ldots, x^{s}_{i, D}\\right)^{\\top}$ の$j$次元目の要素$x^{s}_{i, j}$は以下のように表現されます．  \n",
    "$$x^{s}_{i, j} = \\frac{x_{i,j}-\\bar{x}_j}{\\sigma_j}$$\n",
    "ただし，$\\bar{x}_j$, $\\sigma_j$は以下のように計算されます．\n",
    "$$\n",
    "\\begin{align}\n",
    "\\bar{x}_j &= \\frac{1}{N}\\sum_{i=0}^{n}x_{i,j}\\\\\n",
    "\\sigma_j &=\\sqrt{\\frac{1}{N}\\sum_{i=0}^{n}\\left(x_{i,j}-\\bar{x}_j\\right)^2}\n",
    "\\end{align}\n",
    "$$\n",
    "標準化を行ったサンプル集合$X^{s}=\\left[\\boldsymbol{x}^{s}_1, \\boldsymbol{x}^{s}_2, \\ldots, \\boldsymbol{x}^{s}_i, \\ldots, \\boldsymbol{x}^{s}_n\\right]^{\\top}$に対してPCA を適用します．  \n",
    "\n",
    "以下では，まず始めにサンプルのデータを浮動小数点型に変換してから，data に代入しています．\n",
    "このdata を使ってサンプルの平均，標本標準偏差を計算し，標準化を行いましょう．  \n",
    "以下のコードのNone のところを適切なコードに書き換え，プログラムを完成させて下さい．\n",
    "デバグのために値やデータの次元数を適宜出力して下さって結構です．\n",
    "ただし，**計算はfor 文を使わずに行って下さい．for 文を使った場合，減点対象です．**"
   ]
  },
  {
   "cell_type": "code",
   "execution_count": 6,
   "metadata": {},
   "outputs": [],
   "source": [
    "#data は画像の画素値で0-255 の値で表現されているので，計算のために浮動小数点型に変換しておく．\n",
    "data = images.astype( 'float32' )\n",
    "#データの平均\n",
    "ave = np.mean(data, axis=1, keepdims=True)\n",
    "#標準偏差\n",
    "sigma = np.std(data, axis=1, keepdims=True)\n",
    "#もとのデータ-平均/標準偏差\n",
    "data = (data - ave) / sigma"
   ]
  },
  {
   "cell_type": "markdown",
   "metadata": {},
   "source": [
    "### 分散共分散行列に固有値分解を適用\n",
    "続いて，PCA をdata に適用します．ここでは，導出やその原理の説明は省略し，計算の方法のみ説明します．PCA の導出や内容の説明を知りたい人は各自で勉強して下さい．おそらく他の科目で出て来ていると思うのでそのあたりはすでに知っていらっしゃると思います．\n",
    "まず，標準化されたサンプル集合の分散共分散行列$X^s_{\\rm{cov}}$は，\n",
    "$$X_{\\rm{cov}} = {X^{s}}^{\\top}X^{s}$$\n",
    "と計算されます．\n",
    "続いて，$X^s_{\\rm{cov}}$を固有値分解して，固有値と固有値ベクトルを計算して下さい．"
   ]
  },
  {
   "cell_type": "code",
   "execution_count": 25,
   "metadata": {},
   "outputs": [],
   "source": [
    "import numpy.linalg as LA\n",
    "#分散共分散行列を計算\n",
    "# cov_mat = np.cov(data)\n",
    "cov_mat = np.dot(data.T, data)\n",
    "#固有値分解により，固有値la と固有ベクトルvを計算\n",
    "la, v = LA.eig(cov_mat)"
   ]
  },
  {
   "cell_type": "markdown",
   "metadata": {},
   "source": [
    "### 第一主成分，第二主成分で張られる空間にデータを投影\n",
    "固有値を$\\lambda_{1}, \\lambda_{2}, \\ldots, \\lambda_{D}, (\\mbox{但し}\\lambda_{1}\\geq\\lambda_{2}\\geq\\cdots\\geq\\lambda_{D})$，固有値にそれぞれ対応する固有ベクトルを$\\boldsymbol{v}_1, \\boldsymbol{v}_2, \\ldots, \\boldsymbol{v}_D$とすると，第一主成分の固有値ベクトルは$\\boldsymbol{v}_1$，第二主成分の固有値ベクトルは$\\boldsymbol{v}_2$で表現されます．$\\boldsymbol{v}_1, \\boldsymbol{v}_2$で張られる2 次元空間にデータを投影し，データの次元を2次元に圧縮してみましょう．  \n",
    "$V_2=\\left[\\boldsymbol{v}_1, \\boldsymbol{v}_2\\right]$とすると，データ$X^{s}$の$\\boldsymbol{v}_1, \\boldsymbol{v}_2$で張られた空間への写像$f_{V_2}(X^s)$は，\n",
    "$$ f_{V_2}(X^s)= X^{s}V_2$$\n",
    "で計算されます．\n",
    "まず，$V_2$にあたる行列を作り，それを用いて上記の写像を計算して下さい．"
   ]
  },
  {
   "cell_type": "code",
   "execution_count": 35,
   "metadata": {},
   "outputs": [
    {
     "data": {
      "text/plain": [
       "array([[-20.417799 ,  -7.8066454],\n",
       "       [  4.224908 , -24.11224  ],\n",
       "       [ 46.85905  ,  -0.815488 ],\n",
       "       ...,\n",
       "       [ 34.575092 ,  -6.3470387],\n",
       "       [  2.4651952,   8.485086 ],\n",
       "       [-27.874966 ,   0.9677883]], dtype=float32)"
      ]
     },
     "execution_count": 35,
     "metadata": {},
     "output_type": "execute_result"
    }
   ],
   "source": [
    "#V_2 を作成\n",
    "# V2\n",
    "V2 = v[:, :2]\n",
    "#V_2 で張られる空間にデータを投影（写像の計算）\n",
    "projected_data = np.dot(data, V2)\n",
    "projected_data"
   ]
  },
  {
   "cell_type": "markdown",
   "metadata": {},
   "source": [
    "### 2次元空間のデータをプロット\n",
    "2次元空間上に投影されたデータをプロットしてみましょう．  \n",
    "x 軸を第一主成分，y軸を第二主成分として，**クラスごとに別の色を使って**最初の1000個のデータ（全部だと量が多いので）をプロットし，``plt.show()`` を使って表示させて下さい．  \n",
    "描画するグラフは，以下の様式に従って下さい（**守らないと減点対象です**）．  \n",
    "- 軸のラベル（第一主成分，第二主成分）を必ずつける．（日本語でも英語でも構わない．）  \n",
    "- クラスの凡例をつける  \n",
    "- 凡例にはクラスのそれぞれの名称（airplane, automobileなど，クラスの番号との対応はlabel_nameに格納されている．）を表示させる  \n",
    "- 凡例はグラフの外に表示させる．"
   ]
  },
  {
   "cell_type": "code",
   "execution_count": 38,
   "metadata": {
    "scrolled": true
   },
   "outputs": [
    {
     "data": {
      "image/png": "[encoded data removed]",
      "text/plain": [
       "<Figure size 432x288 with 1 Axes>"
      ]
     },
     "metadata": {
      "needs_background": "light"
     },
     "output_type": "display_data"
    }
   ],
   "source": [
    "#プロットを行うコードを書く．上の様式に従うこと．\n",
    "x = projected_data[:, 0]\n",
    "y = projected_data[:, 1]\n",
    "plt.plot(x, y)\n",
    "plt.show()"
   ]
  },
  {
   "cell_type": "markdown",
   "metadata": {},
   "source": [
    "### 講義・課題に関する感想  \n",
    "以下に今回の課題に関しての感想や工夫した点を記入して下さい．"
   ]
  },
  {
   "cell_type": "markdown",
   "metadata": {},
   "source": [
    "**課題お疲れ様でした!!!**  \n",
    "すべてのセルを実行して保存し，ファイル名のXXX の部分を自分の学籍番号に書き換えて，.ipynbファイルを[moodle](https://lms.omu.ac.jp/mod/assign/view.php?id=742220)に提出して下さい．"
   ]
  },
  {
   "cell_type": "code",
   "execution_count": null,
   "metadata": {},
   "outputs": [],
   "source": []
  }
 ],
 "metadata": {
  "kernelspec": {
   "display_name": "Python 3",
   "language": "python",
   "name": "python3"
  },
  "language_info": {
   "codemirror_mode": {
    "name": "ipython",
    "version": 3
   },
   "file_extension": ".py",
   "mimetype": "text/x-python",
   "name": "python",
   "nbconvert_exporter": "python",
   "pygments_lexer": "ipython3",
   "version": "3.9.13"
  }
 },
 "nbformat": 4,
 "nbformat_minor": 4
}
